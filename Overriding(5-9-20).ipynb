{
 "cells": [
  {
   "cell_type": "code",
   "execution_count": 8,
   "metadata": {},
   "outputs": [
    {
     "name": "stdout",
     "output_type": "stream",
     "text": [
      "instance variable in class B\n"
     ]
    }
   ],
   "source": [
    "#OVERRIDING (5 Sept'20)\n",
    "class A:\n",
    "    cls_var1=\" variable of class A\"\n",
    "    def __init__(self):\n",
    "        self.var1=\"i am in constructor of A\"\n",
    "        self.cls_var1=\"instance variable in class A\"\n",
    "        \n",
    "class B(A):\n",
    "    cls_var2=\" variable of class B\"\n",
    "    def __init__(self):\n",
    "        self.var1=\"i am in constructor of B\"\n",
    "        self.cls_var2=\"instance variable in class B\"\n",
    "        \n",
    "a=A()\n",
    "b=B()\n",
    "\n",
    "print(b.cls_var2)"
   ]
  },
  {
   "cell_type": "code",
   "execution_count": 9,
   "metadata": {},
   "outputs": [
    {
     "name": "stdout",
     "output_type": "stream",
     "text": [
      " variable of class A\n"
     ]
    }
   ],
   "source": [
    "print(b.cls_var1)"
   ]
  },
  {
   "cell_type": "code",
   "execution_count": 11,
   "metadata": {},
   "outputs": [
    {
     "name": "stdout",
     "output_type": "stream",
     "text": [
      "instance variable in class B\n"
     ]
    }
   ],
   "source": [
    "print(b.cls_var2)"
   ]
  },
  {
   "cell_type": "code",
   "execution_count": 12,
   "metadata": {},
   "outputs": [],
   "source": [
    "#AREA USING SUPER\n",
    "class rectangle:\n",
    "    def __init__(self,length,width):\n",
    "        self.l=length\n",
    "        self.w=width\n",
    "    def area(self):\n",
    "        return self.l*self.w\n",
    "    def perimeter(self):\n",
    "        return 2*(self.l+self.w)\n",
    "    \n",
    "class square(rectangle):\n",
    "    def __init__(self,l):\n",
    "        super().__init__(l,l)"
   ]
  },
  {
   "cell_type": "code",
   "execution_count": 13,
   "metadata": {},
   "outputs": [
    {
     "name": "stdout",
     "output_type": "stream",
     "text": [
      "25\n",
      "20\n"
     ]
    }
   ],
   "source": [
    "sq=square(5)\n",
    "\n",
    "print(sq.area())\n",
    "print(sq.perimeter())\n"
   ]
  },
  {
   "cell_type": "code",
   "execution_count": 14,
   "metadata": {},
   "outputs": [
    {
     "name": "stdout",
     "output_type": "stream",
     "text": [
      "20\n",
      "18\n"
     ]
    }
   ],
   "source": [
    "re=rectangle(4,5)\n",
    "print(re.area())\n",
    "print(re.perimeter())"
   ]
  },
  {
   "cell_type": "code",
   "execution_count": null,
   "metadata": {},
   "outputs": [],
   "source": []
  }
 ],
 "metadata": {
  "kernelspec": {
   "display_name": "Python 3",
   "language": "python",
   "name": "python3"
  },
  "language_info": {
   "codemirror_mode": {
    "name": "ipython",
    "version": 3
   },
   "file_extension": ".py",
   "mimetype": "text/x-python",
   "name": "python",
   "nbconvert_exporter": "python",
   "pygments_lexer": "ipython3",
   "version": "3.7.3"
  }
 },
 "nbformat": 4,
 "nbformat_minor": 4
}
