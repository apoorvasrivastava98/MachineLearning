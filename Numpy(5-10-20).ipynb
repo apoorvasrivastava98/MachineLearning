{
 "cells": [
  {
   "cell_type": "code",
   "execution_count": 1,
   "metadata": {},
   "outputs": [
    {
     "name": "stdout",
     "output_type": "stream",
     "text": [
      "[  1.      2.2     5.5   123.      0.3     0.567  25.532]\n",
      "[  1.   2.   6. 123.   0.   1.  26.]\n",
      "[  1.    2.2   5.5 123.    0.3   0.6  25.5]\n",
      "[  1.      2.2     5.5   123.      0.3     0.567  25.532]\n",
      "[  0.   0.  10. 120.   0.   0.  30.]\n",
      "[-1.7  1.5 -0.2  0.6 10. ]\n",
      "[-1.  2. -0.  1. 10.]\n",
      "[-2.  1. -1.  0. 10.]\n",
      "1.8\n",
      "1\n",
      "1\n"
     ]
    }
   ],
   "source": [
    "import numpy as np\n",
    "\n",
    "a=np.array([1.0,2.2,5.5,123,0.3,0.567,25.532])\n",
    "\n",
    "print(a)\n",
    "\n",
    "##round operation\n",
    "print(np.around(a))\n",
    "print(np.around(a, decimals=1))\n",
    "print(a)\n",
    "print(np.around(a, decimals=-1))\n",
    "\n",
    "####ceil() and floor() functions\n",
    "c=np.array([-1.7,1.5,-0.2,0.6,10])\n",
    "\n",
    "print(c)\n",
    "print(np.ceil(c))\n",
    "print(np.floor(c))\n",
    "\n",
    "z=1.3\n",
    "b=z+.5\n",
    "print(b)\n",
    "print(int(b))\n",
    "print(int(z+.5))"
   ]
  },
  {
   "cell_type": "code",
   "execution_count": null,
   "metadata": {},
   "outputs": [],
   "source": []
  }
 ],
 "metadata": {
  "kernelspec": {
   "display_name": "Python 3",
   "language": "python",
   "name": "python3"
  },
  "language_info": {
   "codemirror_mode": {
    "name": "ipython",
    "version": 3
   },
   "file_extension": ".py",
   "mimetype": "text/x-python",
   "name": "python",
   "nbconvert_exporter": "python",
   "pygments_lexer": "ipython3",
   "version": "3.7.3"
  }
 },
 "nbformat": 4,
 "nbformat_minor": 4
}
