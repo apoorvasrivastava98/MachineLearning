{
 "cells": [
  {
   "cell_type": "code",
   "execution_count": 3,
   "metadata": {},
   "outputs": [
    {
     "name": "stdout",
     "output_type": "stream",
     "text": [
      "I eat only plants. I am vegetarian.\n",
      "I breathe oxygen.\n"
     ]
    }
   ],
   "source": [
    "#OVERRIDING (31 Aug'20)\n",
    "#While the child class can access the parent class methods, it can also provide a new implementation to the parent class methods, which is called method overriding\n",
    "\n",
    "class Animal:\n",
    "\t\n",
    "\t# function breathe\n",
    "\tdef breathe(self):\n",
    "\t    print(\"I breathe oxygen.\")\n",
    "    \n",
    "    # function feed\n",
    "\tdef feed(self):\n",
    "\t    print(\"I eat food.\")\n",
    "\n",
    "class Herbivorous(Animal):\n",
    "    \n",
    "    # function feed\n",
    "\tdef feed(self):   #In the child class Herbivorous we have overridden the method feed().\n",
    "\t    print(\"I eat only plants. I am vegetarian.\")\n",
    "        \n",
    "obj = Herbivorous()\n",
    "obj.feed()\n",
    "# calling some other function\n",
    "obj.breathe()"
   ]
  },
  {
   "cell_type": "code",
   "execution_count": 5,
   "metadata": {},
   "outputs": [
    {
     "name": "stdout",
     "output_type": "stream",
     "text": [
      "20 200\n",
      "Sum= 220\n",
      "Multiplication= 72\n",
      "9 1\n",
      "Sum= 10\n",
      "20 200\n",
      "Sum= 220\n",
      "Multiplication= 200\n"
     ]
    }
   ],
   "source": [
    "class Add: #parent class\n",
    "    def result(self,x,y):\n",
    "        print(x,y)\n",
    "        print(\"Sum=\",x+y)\n",
    "        \n",
    "class Mul(Add): #child class\n",
    "    def result(self,a,b):\n",
    "        super().result(20,200)\n",
    "        print(\"Multiplication=\",a*b)\n",
    "        \n",
    "obj=Mul()\n",
    "obj.result(9,8)\n",
    "\n",
    "obj1=Add()\n",
    "obj1.result(9,1)\n",
    "\n",
    "obj2=Mul()\n",
    "obj2.result(10,20)"
   ]
  },
  {
   "cell_type": "code",
   "execution_count": 12,
   "metadata": {},
   "outputs": [
    {
     "name": "stdout",
     "output_type": "stream",
     "text": [
      "Child Constructor\n",
      "10000\n",
      "5000\n",
      "5000\n"
     ]
    }
   ],
   "source": [
    "#CONSTRUCTOR IN INHERITANCE\n",
    "class Father:\n",
    "    def __init__(self):\n",
    "        self.money=2000\n",
    "        print(\"Father Constructor\")\n",
    "    def mul(self):\n",
    "        money=self.money*2\n",
    "        print(money)\n",
    "        \n",
    "class Child(Father):\n",
    "    def __init__(self):\n",
    "        self.money=5000\n",
    "        print(\"Child Constructor\")\n",
    "    def disp(self):\n",
    "        super().mul()\n",
    "        print(self.money)\n",
    "        \n",
    "ch=Child()\n",
    "ch.money\n",
    "ch.disp()\n",
    "\n",
    "print(ch.money)"
   ]
  },
  {
   "cell_type": "code",
   "execution_count": 13,
   "metadata": {},
   "outputs": [
    {
     "name": "stdout",
     "output_type": "stream",
     "text": [
      "5000\n"
     ]
    }
   ],
   "source": [
    "print(ch.money)"
   ]
  },
  {
   "cell_type": "code",
   "execution_count": 14,
   "metadata": {},
   "outputs": [
    {
     "name": "stdout",
     "output_type": "stream",
     "text": [
      "Child Constructor\n"
     ]
    },
    {
     "data": {
      "text/plain": [
       "5000"
      ]
     },
     "execution_count": 14,
     "metadata": {},
     "output_type": "execute_result"
    }
   ],
   "source": [
    "ch=Child()\n",
    "ch.money\n"
   ]
  },
  {
   "cell_type": "code",
   "execution_count": null,
   "metadata": {},
   "outputs": [],
   "source": []
  }
 ],
 "metadata": {
  "kernelspec": {
   "display_name": "Python 3",
   "language": "python",
   "name": "python3"
  },
  "language_info": {
   "codemirror_mode": {
    "name": "ipython",
    "version": 3
   },
   "file_extension": ".py",
   "mimetype": "text/x-python",
   "name": "python",
   "nbconvert_exporter": "python",
   "pygments_lexer": "ipython3",
   "version": "3.7.3"
  }
 },
 "nbformat": 4,
 "nbformat_minor": 4
}
